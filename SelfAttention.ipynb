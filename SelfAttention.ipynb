{
  "nbformat": 4,
  "nbformat_minor": 0,
  "metadata": {
    "colab": {
      "provenance": [],
      "authorship_tag": "ABX9TyM5/dhloTY4UllLCpQmWNmO",
      "include_colab_link": true
    },
    "kernelspec": {
      "name": "python3",
      "display_name": "Python 3"
    },
    "language_info": {
      "name": "python"
    }
  },
  "cells": [
    {
      "cell_type": "markdown",
      "metadata": {
        "id": "view-in-github",
        "colab_type": "text"
      },
      "source": [
        "<a href=\"https://colab.research.google.com/github/mgaac/paper_imlementations/blob/main/SelfAttention.ipynb\" target=\"_parent\"><img src=\"https://colab.research.google.com/assets/colab-badge.svg\" alt=\"Open In Colab\"/></a>"
      ]
    },
    {
      "cell_type": "code",
      "execution_count": null,
      "metadata": {
        "id": "cAJWOkEV6xnT"
      },
      "outputs": [],
      "source": [
        "import torch\n",
        "import torch.nn as nn\n",
        "import torch.nn.functional as f\n",
        "\n",
        "import math"
      ]
    },
    {
      "cell_type": "code",
      "source": [
        "class SelfAttention(nn.Module):\n",
        "  def __init__(self, embed_size):\n",
        "    super(SelfAttention, self).__init__()\n",
        "\n",
        "    self.embed_size = embed_size\n",
        "    self.embedding = nn.Sequential(\n",
        "        nn.Linear(1, embed_size),\n",
        "        nn.ReLU(),)\n",
        "    \n",
        "    self.query = nn.Linear(embed_size, embed_size)\n",
        "    self.key = nn.Linear(embed_size, embed_size)\n",
        "    self.value = nn.Linear(embed_size, embed_size)\n",
        "\n",
        "\n",
        "  def forward(self, x):\n",
        "    embed_size = self.embed_size\n",
        "    x = self.embedding(x)\n",
        "    \n",
        "\n",
        "    query = self.query(x)\n",
        "    key = self.key(x)\n",
        "    value = self.value(x)\n",
        "\n",
        "    alingment = torch.matmul(query, key.t())\n",
        "\n",
        "    weights = f.softmax(torch.div(alingment[0],math.sqrt(embed_size)), dim=0)\n",
        "    weights = weights.reshape(weights.size()[0], 1)\n",
        "    weighted_values = torch.mul(weights, value)\n",
        "\n",
        "    return weighted_values\n",
        "\n",
        "attention = SelfAttention(50)"
      ],
      "metadata": {
        "id": "0NrMa9YC63ZR"
      },
      "execution_count": null,
      "outputs": []
    }
  ]
}