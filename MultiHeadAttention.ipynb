{
  "nbformat": 4,
  "nbformat_minor": 0,
  "metadata": {
    "colab": {
      "provenance": [],
      "authorship_tag": "ABX9TyOb/hpfVbp5UlO+BuxaUoRZ",
      "include_colab_link": true
    },
    "kernelspec": {
      "name": "python3",
      "display_name": "Python 3"
    },
    "language_info": {
      "name": "python"
    }
  },
  "cells": [
    {
      "cell_type": "markdown",
      "metadata": {
        "id": "view-in-github",
        "colab_type": "text"
      },
      "source": [
        "<a href=\"https://colab.research.google.com/github/mgaac/paper_imlementations/blob/main/MultiHeadAttention.ipynb\" target=\"_parent\"><img src=\"https://colab.research.google.com/assets/colab-badge.svg\" alt=\"Open In Colab\"/></a>"
      ]
    },
    {
      "cell_type": "code",
      "execution_count": 77,
      "metadata": {
        "id": "hJUcrzmkMJ4I"
      },
      "outputs": [],
      "source": [
        "import torch\n",
        "import torch.nn as nn\n",
        "import torch.nn.functional as f\n",
        "\n",
        "import math"
      ]
    },
    {
      "cell_type": "code",
      "source": [
        "class MultiHeadAttention(nn.Module):\n",
        "  def __init__(self, input_size, embed_size, n_heads):\n",
        "    super(MultiHeadAttention, self).__init__()\n",
        "\n",
        "    self.embed_size = embed_size\n",
        "    self.input_size = input_size\n",
        "    self.n_heads = n_heads\n",
        "\n",
        "    self.embedding = nn.Linear(input_size, embed_size)\n",
        "\n",
        "    self.query = nn.Linear(embed_size, embed_size * n_heads)\n",
        "    self.key = nn.Linear(embed_size, embed_size * n_heads)\n",
        "    self.value = nn.Linear(embed_size, embed_size * n_heads)\n",
        "\n",
        "  def forward(self, x):\n",
        "    embed_size = self.embed_size \n",
        "    input_size = self.input_size\n",
        "    n_heads = self.n_heads\n",
        "\n",
        "    x = self.embedding(x)\n",
        "\n",
        "    query = self.query(x)\n",
        "    key = self.key(x)\n",
        "    value = self.value(x)\n",
        "\n",
        "    query = query.reshape(x.size()[0], embed_size, n_heads)\n",
        "    key = key.reshape(x.size()[0], embed_size, n_heads)\n",
        "    value = value.reshape(x.size()[0], embed_size, n_heads)\n",
        "\n",
        "    alingment = torch.matmul(query, torch.transpose(key, 1, 2))[:,0]\n",
        "    weights = f.softmax(torch.div(alingment, math.sqrt(embed_size)), 1)\n",
        "    weighted_values = torch.einsum('ikj, ik->ikj', [value,weights])\n",
        "\n",
        "    return weighted_values\n",
        "\n",
        "MultiHeadAttention = MultiHeadAttention(1, 10, 10)"
      ],
      "metadata": {
        "id": "IcSR0xA6MRpc"
      },
      "execution_count": 156,
      "outputs": []
    },
    {
      "cell_type": "code",
      "source": [
        "input = torch.rand(200,1)\n",
        "MultiHeadAttention(input).size()"
      ],
      "metadata": {
        "colab": {
          "base_uri": "https://localhost:8080/"
        },
        "id": "Rbjjg-OAirIC",
        "outputId": "e74931fc-cf1d-44f6-c3b2-bb6b62b1b333"
      },
      "execution_count": 159,
      "outputs": [
        {
          "output_type": "execute_result",
          "data": {
            "text/plain": [
              "torch.Size([200, 10, 10])"
            ]
          },
          "metadata": {},
          "execution_count": 159
        }
      ]
    },
    {
      "cell_type": "code",
      "source": [],
      "metadata": {
        "id": "5YT0vTYuuSk9"
      },
      "execution_count": null,
      "outputs": []
    }
  ]
}